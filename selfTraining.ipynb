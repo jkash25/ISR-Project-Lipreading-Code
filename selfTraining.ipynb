{
 "cells": [
  {
   "cell_type": "code",
   "execution_count": null,
   "metadata": {},
   "outputs": [],
   "source": [
    "import numpy as np\n",
    "from google.colab import drive\n",
    "import warnings\n",
    "from pathlib import Path\n",
    "import pandas as pd\n",
    "import os\n",
    "import imutils\n",
    "import dlib\n",
    "from google.colab.patches import cv2_imshow\n",
    "import cv2\n",
    "import imageio\n",
    "from PIL import Image\n",
    "from imutils import face_utils\n",
    "import time\n",
    "from keras.utils import np_utils, generic_utils\n",
    "import shutil\n",
    "from skimage.transform import resize\n",
    "from sklearn.utils import shuffle\n",
    "from skimage.io import imread, imsave, imshow\n",
    "import tensorflow\n",
    "import keras\n",
    "from keras import layers\n",
    "from keras.layers.convolutional import Conv3D, MaxPooling3D, Conv2D, MaxPooling2D\n",
    "from keras.layers.core import Dense, Dropout, Flatten\n",
    "from keras.models import Sequential, load_model\n",
    "from keras.layers import Input,Activation, Bidirectional,ConvLSTM3D,ConvLSTM2D,ZeroPadding3D, TimeDistributed, LSTM, GRU, Reshape,BatchNormalization, ConvLSTM2D,GlobalMaxPooling2D\n",
    "from keras.utils import plot_model\n",
    "import matplotlib.pyplot as plt\n",
    "from keras.callbacks import CSVLogger, ModelCheckpoint, EarlyStopping\n",
    "import matplotlib.pyplot as plt\n",
    "import tqdm\n",
    "from tqdm.notebook import tqdm\n",
    "from keras.applications.vgg16 import VGG16\n",
    "warnings.filterwarnings(\"ignore\")"
   ]
  },
  {
   "cell_type": "code",
   "execution_count": null,
   "metadata": {},
   "outputs": [],
   "source": []
  }
 ],
 "metadata": {
  "language_info": {
   "name": "python"
  },
  "orig_nbformat": 4
 },
 "nbformat": 4,
 "nbformat_minor": 2
}
