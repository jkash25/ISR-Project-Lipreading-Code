{
 "cells": [
  {
   "cell_type": "code",
   "execution_count": 5,
   "metadata": {},
   "outputs": [],
   "source": [
    "import numpy as np\n",
    "#from google.colab import drive\n",
    "import warnings\n",
    "from pathlib import Path\n",
    "import pandas as pd\n",
    "import os\n",
    "import imutils\n",
    "import dlib\n",
    "#from google.colab.patches import cv2_imshow\n",
    "import cv2\n",
    "import imageio\n",
    "from PIL import Image\n",
    "from imutils import face_utils\n",
    "import time\n",
    "from keras.utils import np_utils, generic_utils\n",
    "import shutil\n",
    "from skimage.transform import resize\n",
    "from sklearn.utils import shuffle\n",
    "from skimage.io import imread, imsave, imshow\n",
    "import tensorflow\n",
    "import keras\n",
    "from keras import layers\n",
    "from keras.layers.convolutional import Conv3D, MaxPooling3D, Conv2D, MaxPooling2D\n",
    "from keras.layers.core import Dense, Dropout, Flatten\n",
    "from keras.models import Sequential, load_model\n",
    "from keras.layers import Input,Activation, Bidirectional,ConvLSTM3D,ConvLSTM2D,ZeroPadding3D, TimeDistributed, LSTM, GRU, Reshape,BatchNormalization, ConvLSTM2D,GlobalMaxPooling2D\n",
    "from keras.utils import plot_model\n",
    "import matplotlib.pyplot as plt\n",
    "from keras.callbacks import CSVLogger, ModelCheckpoint, EarlyStopping\n",
    "import matplotlib.pyplot as plt\n",
    "from tqdm import tqdm\n",
    "from keras.applications.vgg16 import VGG16\n",
    "warnings.filterwarnings(\"ignore\")"
   ]
  },
  {
   "cell_type": "code",
   "execution_count": 49,
   "metadata": {},
   "outputs": [],
   "source": [
    "x_train = []\n",
    "y_train = []\n",
    "x_val = []\n",
    "y_val = []\n",
    "x_test = []\n",
    "y_test = []\n",
    "\n",
    "words = ['Begin','Choose','Connection','Navigation','Next', 'Previous', 'Start','Stop','Hello','Web']\n",
    "phrases = [\"Stop navigaton\",\"Excuse me\",\"I am sorry\",\"Thank you\",'Good bye','I love this game','Nice to meet you','You are welcome','How are you?','Have a good time']\n",
    "phrases_di = {i:phrases[i] for i in range(len(phrases))}\n",
    "\n",
    "\n",
    "words_di = {i:words[i] for i in range(len(words))}\n",
    "\n",
    "unseen_test = ['Jai04']\n",
    "unseen_validation = ['Jai02','Jai07']\n",
    "\n",
    "\n",
    "starting_path = 'C:\\\\Users\\\\Jai K\\\\CS Stuff\\\\Python\\\\ISR Project\\\\self_training\\\\'\n",
    "\n",
    "\n",
    "people = ['Jai01','Jai02','Jai03','Jai04','Jai05','Jai06','Jai07','Jai08','Jai09','Jai10']\n",
    "data_types = ['words']\n",
    "folder_nums = ['01','02','03','04','05','06','07','08','09','10']\n",
    "instances = ['01','02','03','04','05','06','07','08','09','10']\n",
    "image_nums = ['frame001','frame002','frame003','frame004','frame005','frame006','frame007','frame008','frame009','frame010']\n",
    "max_seq_length = 10"
   ]
  },
  {
   "cell_type": "code",
   "execution_count": 50,
   "metadata": {},
   "outputs": [],
   "source": [
    "def crop_and_save():\n",
    "    t1 = time.time()\n",
    "    for person in tqdm(people):\n",
    "        tx1 = time.time()\n",
    "        for data_type in data_types:\n",
    "            for word_index,folder_num in enumerate(folder_nums):\n",
    "                for instance in instances:\n",
    "                    sequence = []\n",
    "                    for image in image_nums:\n",
    "                        path = starting_path+person+\"\\\\\"+data_type+\"\\\\\"+folder_num+\"\\\\\"+instance+\"\\\\\"+image+\".jpg\"\n",
    "                        #print(path)\n",
    "                        if os.path.exists(path):\n",
    "                            frame = cv2.imread(path)\n",
    "                            frame = cv2.cvtColor(frame,cv2.COLOR_BGR2GRAY)\n",
    "                            frame = frame.astype(np.uint8)\n",
    "                            sequence.append(frame)\n",
    "                    pad_array = [np.zeros((100,100))]\n",
    "                    sequence.extend(pad_array*(max_seq_length-len(sequence)))\n",
    "                    sequence = np.array(sequence)\n",
    "                    if person in unseen_test:\n",
    "                        #print(\"TEST REACHED\")\n",
    "                        x_test.append(sequence)\n",
    "                        y_test.append(word_index)\n",
    "                    elif person in unseen_validation:\n",
    "                        #print(\"VAL REACHED\")\n",
    "                        x_val.append(sequence)\n",
    "                        y_val.append(word_index)\n",
    "                    else:\n",
    "                        x_train.append(sequence)\n",
    "                        y_train.append(word_index)\n",
    "        tx2 = time.time()\n",
    "        print(f\"Finished reading images for {person}. Time taken: {tx2-tx1} seconds.\")\n",
    "    t2 = time.time()\n",
    "    print(f\"Time taken to create 3D Tensor from cropped lip images: {t2-t1} seconds.\")\n",
    "\n"
   ]
  },
  {
   "cell_type": "code",
   "execution_count": 51,
   "metadata": {},
   "outputs": [
    {
     "name": "stderr",
     "output_type": "stream",
     "text": [
      " 20%|██        | 2/10 [00:00<00:01,  7.60it/s]"
     ]
    },
    {
     "name": "stdout",
     "output_type": "stream",
     "text": [
      "Finished reading images for Jai01. Time taken: 0.1413407325744629 seconds.\n",
      "Finished reading images for Jai02. Time taken: 0.12303972244262695 seconds.\n"
     ]
    },
    {
     "name": "stderr",
     "output_type": "stream",
     "text": [
      " 40%|████      | 4/10 [00:00<00:00,  7.62it/s]"
     ]
    },
    {
     "name": "stdout",
     "output_type": "stream",
     "text": [
      "Finished reading images for Jai03. Time taken: 0.12400102615356445 seconds.\n",
      "Finished reading images for Jai04. Time taken: 0.13424372673034668 seconds.\n"
     ]
    },
    {
     "name": "stderr",
     "output_type": "stream",
     "text": [
      " 60%|██████    | 6/10 [00:00<00:00,  7.72it/s]"
     ]
    },
    {
     "name": "stdout",
     "output_type": "stream",
     "text": [
      "Finished reading images for Jai05. Time taken: 0.1367197036743164 seconds.\n",
      "Finished reading images for Jai06. Time taken: 0.12100052833557129 seconds.\n"
     ]
    },
    {
     "name": "stderr",
     "output_type": "stream",
     "text": [
      " 80%|████████  | 8/10 [00:01<00:00,  8.04it/s]"
     ]
    },
    {
     "name": "stdout",
     "output_type": "stream",
     "text": [
      "Finished reading images for Jai07. Time taken: 0.12310671806335449 seconds.\n",
      "Finished reading images for Jai08. Time taken: 0.11617875099182129 seconds.\n"
     ]
    },
    {
     "name": "stderr",
     "output_type": "stream",
     "text": [
      "100%|██████████| 10/10 [00:01<00:00,  7.82it/s]"
     ]
    },
    {
     "name": "stdout",
     "output_type": "stream",
     "text": [
      "Finished reading images for Jai09. Time taken: 0.1260068416595459 seconds.\n",
      "Finished reading images for Jai10. Time taken: 0.1220245361328125 seconds.\n",
      "Time taken to create 3D Tensor from cropped lip images: 1.2810885906219482 seconds.\n"
     ]
    },
    {
     "name": "stderr",
     "output_type": "stream",
     "text": [
      "\n"
     ]
    }
   ],
   "source": [
    "crop_and_save()"
   ]
  },
  {
   "cell_type": "code",
   "execution_count": 52,
   "metadata": {},
   "outputs": [
    {
     "name": "stdout",
     "output_type": "stream",
     "text": [
      "(100, 100)\n"
     ]
    },
    {
     "data": {
      "image/png": "[encoded data removed]",
      "text/plain": [
       "<Figure size 640x480 with 1 Axes>"
      ]
     },
     "metadata": {},
     "output_type": "display_data"
    },
    {
     "name": "stdout",
     "output_type": "stream",
     "text": [
      "(700, 10, 100, 100)\n"
     ]
    }
   ],
   "source": [
    "x_train = np.array(x_train)\n",
    "one =x_train[0][4]\n",
    "print(one.shape)\n",
    "plt.imshow(one,cmap='gray')\n",
    "plt.show()\n",
    "print(x_train.shape)\n"
   ]
  },
  {
   "cell_type": "code",
   "execution_count": 53,
   "metadata": {},
   "outputs": [
    {
     "name": "stdout",
     "output_type": "stream",
     "text": [
      "X Training shape:  (700, 10, 100, 100)\n",
      "X Test shape:  (100, 10, 100, 100)\n",
      "X Validation shape:  (200, 10, 100, 100)\n",
      "Y Training shape:  (700,)\n",
      "Y Test shape:  (100,)\n",
      "Y Validation shape:  (200,)\n"
     ]
    }
   ],
   "source": [
    "x_train = np.array(x_train)\n",
    "x_test = np.array(x_test)\n",
    "x_val = np.array(x_val)\n",
    "y_train = np.array(y_train)\n",
    "y_test = np.array(y_test)\n",
    "y_val = np.array(y_val)\n",
    "\n",
    "print(\"X Training shape: \",x_train.shape)\n",
    "print(\"X Test shape: \",x_test.shape)\n",
    "print(\"X Validation shape: \",x_val.shape)\n",
    "print(\"Y Training shape: \",y_train.shape)\n",
    "print(\"Y Test shape: \",y_test.shape)\n",
    "print(\"Y Validation shape: \",y_val.shape)"
   ]
  },
  {
   "cell_type": "code",
   "execution_count": 54,
   "metadata": {},
   "outputs": [
    {
     "name": "stdout",
     "output_type": "stream",
     "text": [
      "0\n"
     ]
    }
   ],
   "source": [
    "x =np.isnan(x_train).sum()\n",
    "print(x)"
   ]
  },
  {
   "cell_type": "code",
   "execution_count": 55,
   "metadata": {},
   "outputs": [],
   "source": [
    "def normalize_it(X):\n",
    "    v_min = X.min(axis=(2, 3), keepdims=True)\n",
    "    v_max = X.max(axis=(2, 3), keepdims=True)\n",
    "    #print(v_min)\n",
    "    #print('Max: ',v_max)\n",
    "    X = (X - v_min)/(v_max - v_min)\n",
    "    X = np.nan_to_num(X)\n",
    "    return X"
   ]
  },
  {
   "cell_type": "code",
   "execution_count": 57,
   "metadata": {},
   "outputs": [],
   "source": [
    "def clean(x_train,x_val,x_test,y_train,y_val,y_test):\n",
    "    print()\n",
    "    print(\"Normalizing data...\")\n",
    "    t1 = time.time()\n",
    "    x_train = normalize_it(x_train)\n",
    "    #print(X_train)\n",
    "    x_val = normalize_it(x_val)\n",
    "    x_test = normalize_it(x_test)\n",
    "    t2 =time.time()\n",
    "    print()\n",
    "    print(f\"Time taken to normalize images: {t2 - t1} secs\")\n",
    "\n",
    "    print()\n",
    "    print(\"One hot encoding labels...\")\n",
    "    t3 = time.time()\n",
    "    y_train = np_utils.to_categorical(y_train, 10)\n",
    "    y_test = np_utils.to_categorical(y_test, 10)\n",
    "    y_val = np_utils.to_categorical(y_val, 10)\n",
    "    t4 = time.time()\n",
    "    print()\n",
    "    print(f\"Time taken to convert labels to categorical: {t4 - t3} secs\")\n",
    "\n",
    "    print()\n",
    "    print(\"Shuffling data...\")\n",
    "    t5 = time.time()\n",
    "    X_train, y_train = shuffle(x_train, y_train, random_state=0)\n",
    "    X_test, y_test = shuffle(x_test, y_test, random_state=0)\n",
    "    X_val, y_val = shuffle(x_val, y_val, random_state=0)\n",
    "    t6 = time.time()\n",
    "    print()\n",
    "    print(f\"Time taken to shuffle data: {t6 - t5} secs\")\n",
    "    \n",
    "    print()\n",
    "    print(\"Reshaping data...\")\n",
    "    t7 = time.time()\n",
    "    x_train = np.expand_dims(x_train, axis=4)\n",
    "    x_val = np.expand_dims(x_val, axis=4)\n",
    "    x_test = np.expand_dims(x_test, axis=4)\n",
    "    t8 = time.time()\n",
    "    print()\n",
    "    print(f\"Time taken to reshape data: {t8 - t7} secs\")\n",
    "    print()\n",
    "\n",
    "    print(x_train.shape)\n",
    "    print(x_val.shape)\n",
    "    print(x_test.shape)\n",
    "    return x_train, x_val, x_test, y_train, y_val, y_test"
   ]
  },
  {
   "cell_type": "code",
   "execution_count": 58,
   "metadata": {},
   "outputs": [
    {
     "name": "stdout",
     "output_type": "stream",
     "text": [
      "\n",
      "Normalizing data...\n",
      "\n",
      "Time taken to normalize images: 2.6911184787750244 secs\n",
      "\n",
      "One hot encoding labels...\n",
      "\n",
      "Time taken to convert labels to categorical: 0.0 secs\n",
      "\n",
      "Shuffling data...\n",
      "\n",
      "Time taken to shuffle data: 0.3084425926208496 secs\n",
      "\n",
      "Reshaping data...\n",
      "\n",
      "Time taken to reshape data: 0.0 secs\n",
      "\n",
      "(700, 10, 100, 100, 1)\n",
      "(200, 10, 100, 100, 1)\n",
      "(100, 10, 100, 100, 1)\n"
     ]
    }
   ],
   "source": [
    "x_train, x_val, x_test, y_train, y_val, y_test = clean(x_train,x_val,x_test,y_train,y_val,y_test)"
   ]
  },
  {
   "cell_type": "code",
   "execution_count": 60,
   "metadata": {},
   "outputs": [
    {
     "name": "stdout",
     "output_type": "stream",
     "text": [
      "Model: \"sequential_3\"\n",
      "_________________________________________________________________\n",
      " Layer (type)                Output Shape              Param #   \n",
      "=================================================================\n",
      " conv3d_6 (Conv3D)           (None, 8, 98, 98, 32)     896       \n",
      "                                                                 \n",
      " max_pooling3d_6 (MaxPooling  (None, 4, 49, 49, 32)    0         \n",
      " 3D)                                                             \n",
      "                                                                 \n",
      " conv3d_7 (Conv3D)           (None, 2, 47, 47, 64)     55360     \n",
      "                                                                 \n",
      " max_pooling3d_7 (MaxPooling  (None, 1, 23, 23, 64)    0         \n",
      " 3D)                                                             \n",
      "                                                                 \n",
      " flatten_1 (Flatten)         (None, 33856)             0         \n",
      "                                                                 \n",
      " dense_1 (Dense)             (None, 10)                338570    \n",
      "                                                                 \n",
      "=================================================================\n",
      "Total params: 394,826\n",
      "Trainable params: 394,826\n",
      "Non-trainable params: 0\n",
      "_________________________________________________________________\n",
      "None\n"
     ]
    }
   ],
   "source": [
    "'''\n",
    "\n",
    "MODEL WITH 100% TRAINING ACCURACY\n",
    "\n",
    "'''\n",
    "\n",
    "model = Sequential()\n",
    "\n",
    "model.add(Conv3D(32, (3, 3, 3), strides = 1, input_shape=(10, 100, 100, 1), activation='relu', padding='valid'))\n",
    "model.add(MaxPooling3D(pool_size=(2, 2, 2), strides=2))\n",
    "\n",
    "model.add(Conv3D(64, (3, 3, 3), activation='relu', strides=1))\n",
    "model.add(MaxPooling3D(pool_size=(2, 2, 2), strides=2))\n",
    "\n",
    "\n",
    "shape = (1,10,10,128)\n",
    "model.add((Flatten()))\n",
    "model.add(Dense(10, activation='softmax'))\n",
    "model.compile(loss = 'categorical_crossentropy',optimizer = 'Adam',metrics = ['accuracy'])\n",
    "print(model.summary())"
   ]
  },
  {
   "cell_type": "code",
   "execution_count": 61,
   "metadata": {},
   "outputs": [
    {
     "name": "stdout",
     "output_type": "stream",
     "text": [
      "Epoch 1/35\n",
      "22/22 [==============================] - 66s 3s/step - loss: 2.3340 - accuracy: 0.0914 - val_loss: 2.3028 - val_accuracy: 0.0900\n",
      "Epoch 2/35\n",
      "22/22 [==============================] - 65s 3s/step - loss: 2.3026 - accuracy: 0.0929 - val_loss: 2.3057 - val_accuracy: 0.1000\n",
      "Epoch 3/35\n",
      "22/22 [==============================] - 65s 3s/step - loss: 2.3022 - accuracy: 0.1043 - val_loss: 2.3060 - val_accuracy: 0.1000\n",
      "Epoch 4/35\n",
      "22/22 [==============================] - 65s 3s/step - loss: 2.2989 - accuracy: 0.1186 - val_loss: 2.3082 - val_accuracy: 0.1300\n",
      "Epoch 5/35\n",
      "22/22 [==============================] - 65s 3s/step - loss: 2.2911 - accuracy: 0.1229 - val_loss: 2.3101 - val_accuracy: 0.0950\n",
      "Epoch 6/35\n",
      "22/22 [==============================] - 65s 3s/step - loss: 2.2848 - accuracy: 0.1457 - val_loss: 2.3136 - val_accuracy: 0.0950\n",
      "Epoch 7/35\n",
      "22/22 [==============================] - 65s 3s/step - loss: 2.2812 - accuracy: 0.1557 - val_loss: 2.3648 - val_accuracy: 0.1000\n",
      "Epoch 8/35\n",
      "22/22 [==============================] - 65s 3s/step - loss: 2.2761 - accuracy: 0.1429 - val_loss: 2.3286 - val_accuracy: 0.0850\n",
      "Epoch 9/35\n",
      "22/22 [==============================] - 65s 3s/step - loss: 2.2583 - accuracy: 0.1643 - val_loss: 2.3897 - val_accuracy: 0.1450\n",
      "Epoch 10/35\n",
      "22/22 [==============================] - 65s 3s/step - loss: 2.2447 - accuracy: 0.1757 - val_loss: 2.3886 - val_accuracy: 0.0850\n",
      "Epoch 11/35\n",
      "22/22 [==============================] - 65s 3s/step - loss: 2.2262 - accuracy: 0.1743 - val_loss: 2.4032 - val_accuracy: 0.1050\n",
      "Epoch 12/35\n",
      "22/22 [==============================] - 65s 3s/step - loss: 2.2108 - accuracy: 0.1900 - val_loss: 2.4042 - val_accuracy: 0.1000\n",
      "Epoch 13/35\n",
      "22/22 [==============================] - 67s 3s/step - loss: 2.1884 - accuracy: 0.1886 - val_loss: 2.4824 - val_accuracy: 0.1050\n",
      "Epoch 14/35\n",
      "22/22 [==============================] - 67s 3s/step - loss: 2.1785 - accuracy: 0.2071 - val_loss: 2.4195 - val_accuracy: 0.1150\n",
      "Epoch 15/35\n",
      "22/22 [==============================] - 66s 3s/step - loss: 2.1662 - accuracy: 0.2171 - val_loss: 2.5173 - val_accuracy: 0.0750\n",
      "Epoch 16/35\n",
      "22/22 [==============================] - 66s 3s/step - loss: 2.1335 - accuracy: 0.2114 - val_loss: 2.5769 - val_accuracy: 0.0800\n",
      "Epoch 17/35\n",
      "22/22 [==============================] - 67s 3s/step - loss: 2.1172 - accuracy: 0.2386 - val_loss: 2.5360 - val_accuracy: 0.0700\n",
      "Epoch 18/35\n",
      "22/22 [==============================] - 66s 3s/step - loss: 2.0928 - accuracy: 0.2400 - val_loss: 2.6227 - val_accuracy: 0.0650\n",
      "Epoch 19/35\n",
      "22/22 [==============================] - 67s 3s/step - loss: 2.0629 - accuracy: 0.2500 - val_loss: 2.5968 - val_accuracy: 0.0950\n",
      "Epoch 20/35\n",
      "22/22 [==============================] - 66s 3s/step - loss: 2.0280 - accuracy: 0.2671 - val_loss: 2.7385 - val_accuracy: 0.0650\n",
      "Epoch 21/35\n",
      "22/22 [==============================] - 67s 3s/step - loss: 1.9994 - accuracy: 0.2786 - val_loss: 2.6756 - val_accuracy: 0.0850\n",
      "Epoch 22/35\n",
      "22/22 [==============================] - 66s 3s/step - loss: 1.9681 - accuracy: 0.3057 - val_loss: 2.7642 - val_accuracy: 0.0850\n",
      "Epoch 23/35\n",
      "22/22 [==============================] - 66s 3s/step - loss: 1.9477 - accuracy: 0.3200 - val_loss: 2.9000 - val_accuracy: 0.0650\n",
      "Epoch 24/35\n",
      "22/22 [==============================] - 67s 3s/step - loss: 1.8950 - accuracy: 0.3371 - val_loss: 2.8460 - val_accuracy: 0.0900\n",
      "Epoch 25/35\n",
      "22/22 [==============================] - 66s 3s/step - loss: 1.8406 - accuracy: 0.3429 - val_loss: 2.9597 - val_accuracy: 0.0900\n",
      "Epoch 26/35\n",
      "22/22 [==============================] - 66s 3s/step - loss: 1.7918 - accuracy: 0.3700 - val_loss: 3.0591 - val_accuracy: 0.0850\n",
      "Epoch 27/35\n",
      "22/22 [==============================] - 66s 3s/step - loss: 1.7434 - accuracy: 0.3957 - val_loss: 3.0444 - val_accuracy: 0.0850\n",
      "Epoch 28/35\n",
      "22/22 [==============================] - 66s 3s/step - loss: 1.6645 - accuracy: 0.4500 - val_loss: 3.1643 - val_accuracy: 0.0850\n",
      "Epoch 29/35\n",
      "22/22 [==============================] - 66s 3s/step - loss: 1.6095 - accuracy: 0.4500 - val_loss: 3.4172 - val_accuracy: 0.0750\n",
      "Epoch 30/35\n",
      "22/22 [==============================] - 66s 3s/step - loss: 1.5408 - accuracy: 0.4771 - val_loss: 3.3523 - val_accuracy: 0.0750\n",
      "Epoch 31/35\n",
      "22/22 [==============================] - 66s 3s/step - loss: 1.4337 - accuracy: 0.5200 - val_loss: 3.2559 - val_accuracy: 0.0700\n",
      "Epoch 32/35\n",
      "22/22 [==============================] - 66s 3s/step - loss: 1.4244 - accuracy: 0.5300 - val_loss: 3.8613 - val_accuracy: 0.0650\n",
      "Epoch 33/35\n",
      "22/22 [==============================] - 66s 3s/step - loss: 1.3011 - accuracy: 0.5686 - val_loss: 3.7932 - val_accuracy: 0.0800\n",
      "Epoch 34/35\n",
      "22/22 [==============================] - 66s 3s/step - loss: 1.2331 - accuracy: 0.5786 - val_loss: 3.9888 - val_accuracy: 0.0600\n",
      "Epoch 35/35\n",
      "22/22 [==============================] - 66s 3s/step - loss: 1.1672 - accuracy: 0.6114 - val_loss: 3.9849 - val_accuracy: 0.0800\n",
      "\n",
      "Training time : 38.41159278949102 mins.\n"
     ]
    }
   ],
   "source": [
    "t1 = time.time()\n",
    "#history = model.fit(x_train, y_train, validation_data=(x_val, y_val), callbacks = [earlyStopping], epochs=45)\n",
    "history = model.fit(x_train, y_train, validation_data=(x_val, y_val), epochs=35)\n",
    "t2 = time.time()\n",
    "print()\n",
    "print(f\"Training time : {(t2 - t1)/60} mins.\")"
   ]
  },
  {
   "cell_type": "code",
   "execution_count": 62,
   "metadata": {},
   "outputs": [
    {
     "data": {
      "image/png": "[encoded data removed]",
      "text/plain": [
       "<Figure size 640x480 with 1 Axes>"
      ]
     },
     "metadata": {},
     "output_type": "display_data"
    }
   ],
   "source": [
    "plt.plot(history.history['accuracy'])\n",
    "plt.plot(history.history['val_accuracy'])\n",
    "plt.title('Model accuracy')\n",
    "plt.ylabel('Accuracy')\n",
    "plt.xlabel('Epoch')\n",
    "plt.legend(['Train', 'Validation'], loc='upper left')\n",
    "plt.show()"
   ]
  },
  {
   "cell_type": "code",
   "execution_count": 63,
   "metadata": {},
   "outputs": [
    {
     "data": {
      "image/png": "[encoded data removed]",
      "text/plain": [
       "<Figure size 640x480 with 1 Axes>"
      ]
     },
     "metadata": {},
     "output_type": "display_data"
    }
   ],
   "source": [
    "plt.plot(history.history['loss'])\n",
    "plt.plot(history.history['val_loss'])\n",
    "plt.title('Model loss')\n",
    "plt.ylabel('Loss')\n",
    "plt.xlabel('Epoch')\n",
    "plt.xlim(1, 40)\n",
    "# plt.ylim(0, 3)\n",
    "plt.legend(['Train', 'Validation'], loc='upper left')\n",
    "plt.show()\n"
   ]
  },
  {
   "cell_type": "code",
   "execution_count": 64,
   "metadata": {},
   "outputs": [
    {
     "name": "stdout",
     "output_type": "stream",
     "text": [
      "4/4 [==============================] - 1s 161ms/step\n"
     ]
    }
   ],
   "source": [
    "ypred = model.predict(x_test)\n",
    "predicted_words = [words[i] for i in np.argmax(ypred, axis=1)]\n",
    "actual_words = [words[i] for i in np.argmax(y_test,axis=1)]"
   ]
  },
  {
   "cell_type": "code",
   "execution_count": 65,
   "metadata": {},
   "outputs": [
    {
     "name": "stdout",
     "output_type": "stream",
     "text": [
      "Predicted : Start \t Actual : Connection\n",
      "Predicted : Next \t Actual : Hello\n",
      "Predicted : Start \t Actual : Begin\n",
      "Predicted : Choose \t Actual : Previous\n",
      "Predicted : Choose \t Actual : Stop\n",
      "Predicted : Stop \t Actual : Web\n",
      "Predicted : Choose \t Actual : Choose\n",
      "Predicted : Stop \t Actual : Stop\n",
      "Predicted : Start \t Actual : Previous\n",
      "Predicted : Start \t Actual : Web\n",
      "Predicted : Web \t Actual : Previous\n",
      "Predicted : Hello \t Actual : Web\n",
      "Predicted : Choose \t Actual : Stop\n",
      "Predicted : Web \t Actual : Choose\n",
      "Predicted : Begin \t Actual : Begin\n",
      "Predicted : Begin \t Actual : Navigation\n",
      "Predicted : Hello \t Actual : Connection\n",
      "Predicted : Hello \t Actual : Connection\n",
      "Predicted : Hello \t Actual : Navigation\n",
      "Predicted : Web \t Actual : Begin\n",
      "Predicted : Begin \t Actual : Next\n",
      "Predicted : Web \t Actual : Start\n",
      "Predicted : Hello \t Actual : Begin\n",
      "Predicted : Hello \t Actual : Stop\n",
      "Predicted : Web \t Actual : Next\n",
      "Predicted : Next \t Actual : Next\n",
      "Predicted : Choose \t Actual : Begin\n",
      "Predicted : Begin \t Actual : Web\n",
      "Predicted : Web \t Actual : Hello\n",
      "Predicted : Next \t Actual : Stop\n",
      "Predicted : Start \t Actual : Start\n",
      "Predicted : Begin \t Actual : Hello\n",
      "Predicted : Stop \t Actual : Web\n",
      "Predicted : Hello \t Actual : Start\n",
      "Predicted : Choose \t Actual : Previous\n",
      "Predicted : Start \t Actual : Connection\n",
      "Predicted : Begin \t Actual : Choose\n",
      "Predicted : Choose \t Actual : Previous\n",
      "Predicted : Begin \t Actual : Start\n",
      "Predicted : Web \t Actual : Stop\n",
      "Predicted : Hello \t Actual : Begin\n",
      "Predicted : Hello \t Actual : Start\n",
      "Predicted : Hello \t Actual : Next\n",
      "Predicted : Hello \t Actual : Next\n",
      "Predicted : Hello \t Actual : Begin\n",
      "Predicted : Connection \t Actual : Choose\n",
      "Predicted : Connection \t Actual : Choose\n",
      "Predicted : Hello \t Actual : Next\n",
      "Predicted : Next \t Actual : Navigation\n",
      "Predicted : Hello \t Actual : Begin\n",
      "Predicted : Start \t Actual : Web\n",
      "Predicted : Previous \t Actual : Previous\n",
      "Predicted : Start \t Actual : Begin\n",
      "Predicted : Stop \t Actual : Navigation\n",
      "Predicted : Begin \t Actual : Connection\n",
      "Predicted : Navigation \t Actual : Previous\n",
      "Predicted : Stop \t Actual : Choose\n",
      "Predicted : Previous \t Actual : Navigation\n",
      "Predicted : Stop \t Actual : Connection\n",
      "Predicted : Stop \t Actual : Previous\n",
      "Predicted : Previous \t Actual : Choose\n",
      "Predicted : Navigation \t Actual : Navigation\n",
      "Predicted : Previous \t Actual : Start\n",
      "Predicted : Stop \t Actual : Previous\n",
      "Predicted : Stop \t Actual : Stop\n",
      "Predicted : Begin \t Actual : Hello\n",
      "Predicted : Previous \t Actual : Navigation\n",
      "Predicted : Navigation \t Actual : Hello\n",
      "Predicted : Previous \t Actual : Choose\n",
      "Predicted : Next \t Actual : Hello\n",
      "Predicted : Navigation \t Actual : Choose\n",
      "Predicted : Next \t Actual : Connection\n",
      "Predicted : Stop \t Actual : Next\n",
      "Predicted : Web \t Actual : Web\n",
      "Predicted : Stop \t Actual : Web\n",
      "Predicted : Connection \t Actual : Start\n",
      "Predicted : Next \t Actual : Connection\n",
      "Predicted : Next \t Actual : Web\n",
      "Predicted : Begin \t Actual : Stop\n",
      "Predicted : Stop \t Actual : Stop\n",
      "Predicted : Web \t Actual : Connection\n",
      "Predicted : Choose \t Actual : Navigation\n",
      "Predicted : Start \t Actual : Hello\n",
      "Predicted : Choose \t Actual : Next\n",
      "Predicted : Begin \t Actual : Navigation\n",
      "Predicted : Begin \t Actual : Start\n",
      "Predicted : Choose \t Actual : Previous\n",
      "Predicted : Begin \t Actual : Choose\n",
      "Predicted : Hello \t Actual : Hello\n",
      "Predicted : Begin \t Actual : Stop\n",
      "Predicted : Web \t Actual : Hello\n",
      "Predicted : Stop \t Actual : Navigation\n",
      "Predicted : Stop \t Actual : Connection\n",
      "Predicted : Previous \t Actual : Hello\n",
      "Predicted : Begin \t Actual : Begin\n",
      "Predicted : Next \t Actual : Web\n",
      "Predicted : Previous \t Actual : Start\n",
      "Predicted : Stop \t Actual : Start\n",
      "Predicted : Stop \t Actual : Next\n",
      "Predicted : Navigation \t Actual : Next\n",
      "\n",
      "\n",
      "Accuracy = 12.0% on testing data\n"
     ]
    }
   ],
   "source": [
    "correct = 0\n",
    "for p, a in zip(predicted_words, actual_words):\n",
    "    if p == a:\n",
    "        correct += 1\n",
    "    print(f\"Predicted : {p} \\t Actual : {a}\")\n",
    "\n",
    "accuracy = correct/len(actual_words)\n",
    "print()\n",
    "print()\n",
    "print(f\"Accuracy = {accuracy*100}% on testing data\")"
   ]
  },
  {
   "cell_type": "code",
   "execution_count": 66,
   "metadata": {},
   "outputs": [],
   "source": [
    "model.save(\"self_training_model1.h5\")"
   ]
  }
 ],
 "metadata": {
  "kernelspec": {
   "display_name": "Python 3",
   "language": "python",
   "name": "python3"
  },
  "language_info": {
   "codemirror_mode": {
    "name": "ipython",
    "version": 3
   },
   "file_extension": ".py",
   "mimetype": "text/x-python",
   "name": "python",
   "nbconvert_exporter": "python",
   "pygments_lexer": "ipython3",
   "version": "3.10.0"
  },
  "orig_nbformat": 4
 },
 "nbformat": 4,
 "nbformat_minor": 2
}
