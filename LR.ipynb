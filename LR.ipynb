{
  "cells": [
    {
      "cell_type": "code",
      "execution_count": null,
      "metadata": {
        "id": "UOixCJj1Iev1"
      },
      "outputs": [],
      "source": [
        "import numpy as np\n",
        "from google.colab import drive\n",
        "import warnings\n",
        "from pathlib import Path\n",
        "import pandas as pd\n",
        "import os\n",
        "import imutils\n",
        "import dlib\n",
        "from google.colab.patches import cv2_imshow\n",
        "import cv2\n",
        "import imageio\n",
        "from PIL import Image\n",
        "from imutils import face_utils\n",
        "import time\n",
        "from keras.utils import np_utils, generic_utils\n",
        "import shutil\n",
        "from skimage.transform import resize\n",
        "from sklearn.utils import shuffle\n",
        "from skimage.io import imread, imsave, imshow\n",
        "import tensorflow\n",
        "import keras\n",
        "from keras import layers\n",
        "from keras.layers.convolutional import Conv3D, MaxPooling3D, Conv2D, MaxPooling2D\n",
        "from keras.layers.core import Dense, Dropout, Flatten\n",
        "from keras.models import Sequential, load_model\n",
        "from keras.layers import Input,Activation, Bidirectional,ConvLSTM3D,ConvLSTM2D,ZeroPadding3D, TimeDistributed, LSTM, GRU, Reshape,BatchNormalization, ConvLSTM2D,GlobalMaxPooling2D\n",
        "from keras.utils import plot_model\n",
        "import matplotlib.pyplot as plt\n",
        "from keras.callbacks import CSVLogger, ModelCheckpoint, EarlyStopping\n",
        "import matplotlib.pyplot as plt\n",
        "import tqdm\n",
        "from tqdm.notebook import tqdm\n",
        "from keras.applications.vgg16 import VGG16\n",
        "warnings.filterwarnings(\"ignore\")"
      ]
    },
    {
      "cell_type": "code",
      "execution_count": null,
      "metadata": {
        "colab": {
          "base_uri": "https://localhost:8080/"
        },
        "id": "bm5NGf9Cc4cU",
        "outputId": "d0c0a928-51e3-4faf-f877-e6ae6f2504cb"
      },
      "outputs": [
        {
          "name": "stdout",
          "output_type": "stream",
          "text": [
            "Mounted at /content/gdrive\n"
          ]
        }
      ],
      "source": [
        "drive.mount('/content/gdrive')"
      ]
    },
    {
      "cell_type": "code",
      "execution_count": null,
      "metadata": {
        "colab": {
          "base_uri": "https://localhost:8080/"
        },
        "id": "MSKvVKwXdXy1",
        "outputId": "42939352-0bfd-4ac8-de64-60277679c38e"
      },
      "outputs": [
        {
          "name": "stdout",
          "output_type": "stream",
          "text": [
            "Time taken to unzip: 107.31625032424927 secs\n"
          ]
        }
      ],
      "source": [
        "t1 = time.time()\n",
        "!unzip '/content/gdrive/MyDrive/Colab Notebooks/miracl.zip' > /dev/null\n",
        "t2 = time.time()\n",
        "print(f\"Time taken to unzip: {t2-t1} secs\")"
      ]
    },
    {
      "cell_type": "code",
      "execution_count": null,
      "metadata": {
        "id": "otPwnx81ImAq"
      },
      "outputs": [],
      "source": [
        "x_train = []\n",
        "y_train = []\n",
        "x_val = []\n",
        "y_val = []\n",
        "x_test = []\n",
        "y_test = []\n",
        "\n",
        "words = ['Begin','Choose','Connection','Navigation','Next', 'Previous', 'Start','Stop','Hello','Web']\n",
        "phrases = [\"Stop navigaton\",\"Excuse me\",\"I am sorry\",\"Thank you\",'Good bye','I love this game','Nice to meet you','You are welcome','How are you?','Have a good time']\n",
        "phrases_di = {i:phrases[i] for i in range(len(phrases))}\n",
        "\n",
        "\n",
        "words_di = {i:words[i] for i in range(len(words))}\n",
        "\n",
        "unseen_test = ['F04']\n",
        "unseen_validation = ['F07','M02']\n",
        "\n",
        "\n",
        "starting_path = '/content/dataset/dataset'\n",
        "\n",
        "\n",
        "people = ['F01','F02','F04','F05','F06','F07','F08','F09','F10','F11','M01','M02','M04','M07','M08']\n",
        "data_types = ['phrases']\n",
        "folder_nums = ['01','02','03','04','05','06','07','08','09','10']\n",
        "instances = ['01','02','03','04','05','06','07','08','09','10']\n",
        "image_nums = ['color_001','color_002','color_003','color_004','color_005','color_006','color_007','color008','color_009','color_010','color_11','color_12','color_13']"
      ]
    },
    {
      "cell_type": "code",
      "execution_count": null,
      "metadata": {
        "id": "4gdNe3kXPZB2"
      },
      "outputs": [],
      "source": [
        "people = ['F01']\n",
        "unseen_test = ['07','09','10']\n",
        "train = ['10']\n",
        "unseen_validation = ['08']\n"
      ]
    },
    {
      "cell_type": "code",
      "execution_count": null,
      "metadata": {
        "id": "zsfix1SBAVUx"
      },
      "outputs": [],
      "source": [
        "def crop_and_save():\n",
        "    MAX_HEIGHT = 100\n",
        "    MAX_WIDTH = 100\n",
        "    max_seq_length = 10\n",
        "    t1 = time.time()\n",
        "    hog_face_detector = dlib.get_frontal_face_detector()\n",
        "    dlib_facelandmark = dlib.shape_predictor('/content/shape_predictor_68_face_landmarks.dat')\n",
        "\n",
        "    for person in people:\n",
        "        tx1 = time.time()\n",
        "        for data_type in data_types:\n",
        "            for word_index,folder in enumerate(tqdm(folder_nums)):\n",
        "                for instance in instances:\n",
        "                    sequence = []\n",
        "                    for image in image_nums:\n",
        "                        path = starting_path + '/' + person + '/' + data_type + '/' + folder + '/'+instance + '/' + image + '.jpg'\n",
        "                        #print(path)\n",
        "\n",
        "                        if(os.path.exists(path) and path.__contains__('color')):\n",
        "                            #print(path)\n",
        "                            frame = cv2.imread(path)\n",
        "                            \n",
        "                            gray = cv2.cvtColor(frame, cv2.COLOR_BGR2GRAY)\n",
        "                            #gray = frame\n",
        "                            x_arr = []\n",
        "                            y_arr = []\n",
        "                            gray = imutils.resize(gray, width=500)\n",
        "                            copy = gray.copy()\n",
        "                            faces = hog_face_detector(gray)\n",
        "                            for face in faces:\n",
        "\n",
        "                                face_landmarks = dlib_facelandmark(gray, face)\n",
        "\n",
        "                                for n in range(48, 68):\n",
        "                                    x = face_landmarks.part(n).x\n",
        "                                    y = face_landmarks.part(n).y\n",
        "                                    x_arr.append(x)\n",
        "                                    y_arr.append(y)\n",
        "                                    #print(face_landmarks.part(n))\n",
        "\n",
        "                                    xmax = max(x_arr)\n",
        "                                    xmin = min(x_arr)\n",
        "                                    ymax = max(y_arr)\n",
        "                                    ymin = min(y_arr)\n",
        "\n",
        "                                    cv2.circle(gray, (x, y), 1, (0, 255, 255), 1)\n",
        "\n",
        "                            copy = copy[ymin-1:ymax+3, xmin-5:xmax+5]\n",
        "                            #print(\"Gray mouth shape: \", copy.shape)\n",
        "\n",
        "                            scale_percent = 200\n",
        "                            \n",
        "                            width2 = 100\n",
        "\n",
        "                            height2 = 100\n",
        "                            dim = (width2, height2)\n",
        "                            resized_cropped = cv2.resize(copy, dim, interpolation = cv2.INTER_AREA)\n",
        "                            \n",
        "                            #print(resized_cropped.shape)\n",
        "                            MAX_WIDTH, MAX_HEIGHT = resized_cropped.shape\n",
        "                            max_seq_length = 10\n",
        "                            #resized_cropped = resized_cropped*255\n",
        "                            resized_cropped = resized_cropped.astype(np.uint8)\n",
        "                            #print(\"Shape: \",resized_cropped.shape)\n",
        "                            sequence.append(resized_cropped)\n",
        "                        else:\n",
        "                            continue\n",
        "                    pad_array = [np.zeros((MAX_WIDTH, MAX_HEIGHT))]           \n",
        "                    sequence.extend(pad_array * (max_seq_length - len(sequence)))\n",
        "                    \n",
        "                    sequence = np.array(sequence)\n",
        "                    if people in unseen_test:\n",
        "                        #x_train.append(sequence) #comment out\n",
        "                        #y_train.append(word_index) #comment out\n",
        "                        x_test.append(sequence)\n",
        "                        y_test.append(word_index)\n",
        "                    elif people in unseen_validation:\n",
        "                        x_val.append(sequence)\n",
        "                        y_val.append(word_index)\n",
        "                    else:\n",
        "                        x_train.append(sequence)\n",
        "                        y_train.append(word_index)\n",
        "        tx2 = time.time()\n",
        "        print(f'Finished reading images for person {person}. Time taken : {tx2 - tx1} secs.')\n",
        "    t2 = time.time()\n",
        "    print(f\"Time taken to create 3D Tensor from cropped lip images: {t2 - t1} secs\")"
      ]
    },
    {
      "cell_type": "code",
      "execution_count": null,
      "metadata": {
        "colab": {
          "base_uri": "https://localhost:8080/"
        },
        "id": "UfY1zpQrAYnh",
        "outputId": "c890b97c-1f1a-47bd-8c14-6b0bf5dae81c"
      },
      "outputs": [
        {
          "name": "stderr",
          "output_type": "stream",
          "text": [
            "100%|██████████| 10/10 [00:29<00:00,  2.97s/it]\n"
          ]
        },
        {
          "name": "stdout",
          "output_type": "stream",
          "text": [
            "Finished reading images for person F01. Time taken : 29.699921369552612 secs.\n"
          ]
        },
        {
          "name": "stderr",
          "output_type": "stream",
          "text": [
            "100%|██████████| 10/10 [00:30<00:00,  3.06s/it]\n"
          ]
        },
        {
          "name": "stdout",
          "output_type": "stream",
          "text": [
            "Finished reading images for person F02. Time taken : 30.650188446044922 secs.\n"
          ]
        },
        {
          "name": "stderr",
          "output_type": "stream",
          "text": [
            "100%|██████████| 10/10 [00:30<00:00,  3.06s/it]\n"
          ]
        },
        {
          "name": "stdout",
          "output_type": "stream",
          "text": [
            "Finished reading images for person F04. Time taken : 30.606186389923096 secs.\n"
          ]
        },
        {
          "name": "stderr",
          "output_type": "stream",
          "text": [
            "100%|██████████| 10/10 [00:30<00:00,  3.06s/it]\n"
          ]
        },
        {
          "name": "stdout",
          "output_type": "stream",
          "text": [
            "Finished reading images for person F05. Time taken : 30.57828116416931 secs.\n"
          ]
        },
        {
          "name": "stderr",
          "output_type": "stream",
          "text": [
            "100%|██████████| 10/10 [00:32<00:00,  3.21s/it]\n"
          ]
        },
        {
          "name": "stdout",
          "output_type": "stream",
          "text": [
            "Finished reading images for person F06. Time taken : 32.06891322135925 secs.\n"
          ]
        },
        {
          "name": "stderr",
          "output_type": "stream",
          "text": [
            "100%|██████████| 10/10 [00:30<00:00,  3.06s/it]\n"
          ]
        },
        {
          "name": "stdout",
          "output_type": "stream",
          "text": [
            "Finished reading images for person F07. Time taken : 30.650315523147583 secs.\n"
          ]
        },
        {
          "name": "stderr",
          "output_type": "stream",
          "text": [
            "100%|██████████| 10/10 [00:30<00:00,  3.06s/it]\n"
          ]
        },
        {
          "name": "stdout",
          "output_type": "stream",
          "text": [
            "Finished reading images for person F08. Time taken : 30.656086444854736 secs.\n"
          ]
        },
        {
          "name": "stderr",
          "output_type": "stream",
          "text": [
            "100%|██████████| 10/10 [00:29<00:00,  2.99s/it]\n"
          ]
        },
        {
          "name": "stdout",
          "output_type": "stream",
          "text": [
            "Finished reading images for person F09. Time taken : 29.8863365650177 secs.\n"
          ]
        },
        {
          "name": "stderr",
          "output_type": "stream",
          "text": [
            "100%|██████████| 10/10 [00:28<00:00,  2.87s/it]\n"
          ]
        },
        {
          "name": "stdout",
          "output_type": "stream",
          "text": [
            "Finished reading images for person F10. Time taken : 28.734182596206665 secs.\n"
          ]
        },
        {
          "name": "stderr",
          "output_type": "stream",
          "text": [
            "100%|██████████| 10/10 [00:30<00:00,  3.04s/it]\n"
          ]
        },
        {
          "name": "stdout",
          "output_type": "stream",
          "text": [
            "Finished reading images for person F11. Time taken : 30.408929347991943 secs.\n"
          ]
        },
        {
          "name": "stderr",
          "output_type": "stream",
          "text": [
            "100%|██████████| 10/10 [00:30<00:00,  3.06s/it]\n"
          ]
        },
        {
          "name": "stdout",
          "output_type": "stream",
          "text": [
            "Finished reading images for person M01. Time taken : 30.616491556167603 secs.\n"
          ]
        },
        {
          "name": "stderr",
          "output_type": "stream",
          "text": [
            "100%|██████████| 10/10 [00:31<00:00,  3.18s/it]\n"
          ]
        },
        {
          "name": "stdout",
          "output_type": "stream",
          "text": [
            "Finished reading images for person M02. Time taken : 31.79002332687378 secs.\n"
          ]
        },
        {
          "name": "stderr",
          "output_type": "stream",
          "text": [
            "100%|██████████| 10/10 [00:31<00:00,  3.14s/it]\n"
          ]
        },
        {
          "name": "stdout",
          "output_type": "stream",
          "text": [
            "Finished reading images for person M04. Time taken : 31.417670488357544 secs.\n"
          ]
        },
        {
          "name": "stderr",
          "output_type": "stream",
          "text": [
            "100%|██████████| 10/10 [00:31<00:00,  3.14s/it]\n"
          ]
        },
        {
          "name": "stdout",
          "output_type": "stream",
          "text": [
            "Finished reading images for person M07. Time taken : 31.372987270355225 secs.\n"
          ]
        },
        {
          "name": "stderr",
          "output_type": "stream",
          "text": [
            "100%|██████████| 10/10 [00:29<00:00,  2.98s/it]"
          ]
        },
        {
          "name": "stdout",
          "output_type": "stream",
          "text": [
            "Finished reading images for person M08. Time taken : 29.846840620040894 secs.\n",
            "Time taken to create 3D Tensor from cropped lip images: 459.9555892944336 secs\n"
          ]
        },
        {
          "name": "stderr",
          "output_type": "stream",
          "text": [
            "\n"
          ]
        }
      ],
      "source": [
        "crop_and_save()"
      ]
    },
    {
      "cell_type": "code",
      "execution_count": null,
      "metadata": {
        "colab": {
          "base_uri": "https://localhost:8080/",
          "height": 304
        },
        "id": "rPwJhx8L3QPI",
        "outputId": "65c0e316-90b7-4c67-9a4f-472dacd41661"
      },
      "outputs": [
        {
          "name": "stdout",
          "output_type": "stream",
          "text": [
            "(100, 100)\n"
          ]
        },
        {
          "data": {
            "image/png": "[encoded data removed]",
            "text/plain": [
              "<Figure size 432x288 with 1 Axes>"
            ]
          },
          "metadata": {
            "needs_background": "light"
          },
          "output_type": "display_data"
        },
        {
          "name": "stdout",
          "output_type": "stream",
          "text": [
            "(1500, 10, 100, 100)\n"
          ]
        }
      ],
      "source": [
        "x_train = np.array(x_train)\n",
        "one =x_train[0][0]\n",
        "print(one.shape)\n",
        "plt.imshow(one,cmap='gray')\n",
        "plt.show()\n",
        "print(x_train.shape)"
      ]
    },
    {
      "cell_type": "code",
      "execution_count": null,
      "metadata": {
        "colab": {
          "base_uri": "https://localhost:8080/"
        },
        "id": "TQgmcMJTAba5",
        "outputId": "d5fbc755-9667-4846-c626-09d16d9cfa95"
      },
      "outputs": [
        {
          "name": "stdout",
          "output_type": "stream",
          "text": [
            "X Training shape:  (1500, 10, 100, 100)\n",
            "X Test shape:  (0,)\n",
            "X Validation shape:  (0,)\n",
            "Y Training shape:  (1500,)\n",
            "Y Test shape:  (0,)\n",
            "Y Validation shape:  (0,)\n"
          ]
        }
      ],
      "source": [
        "x_train = np.array(x_train)\n",
        "x_test = np.array(x_test)\n",
        "x_val = np.array(x_val)\n",
        "y_train = np.array(y_train)\n",
        "y_test = np.array(y_test)\n",
        "y_val = np.array(y_val)\n",
        "\n",
        "print(\"X Training shape: \",x_train.shape)\n",
        "print(\"X Test shape: \",x_test.shape)\n",
        "print(\"X Validation shape: \",x_val.shape)\n",
        "print(\"Y Training shape: \",y_train.shape)\n",
        "print(\"Y Test shape: \",y_test.shape)\n",
        "print(\"Y Validation shape: \",y_val.shape)"
      ]
    },
    {
      "cell_type": "code",
      "execution_count": null,
      "metadata": {
        "colab": {
          "base_uri": "https://localhost:8080/"
        },
        "id": "UuPGgXSg3Om6",
        "outputId": "8152777f-a1e9-4b78-fd9e-80159fcb24db"
      },
      "outputs": [
        {
          "name": "stdout",
          "output_type": "stream",
          "text": [
            "0\n"
          ]
        }
      ],
      "source": [
        "x =np.isnan(x_train).sum()\n",
        "print(x)"
      ]
    },
    {
      "cell_type": "code",
      "execution_count": null,
      "metadata": {
        "id": "8GnRD6tcAdL0"
      },
      "outputs": [],
      "source": [
        "def normalize_it(X):\n",
        "    v_min = X.min(axis=(2, 3), keepdims=True)\n",
        "    v_max = X.max(axis=(2, 3), keepdims=True)\n",
        "    #print(v_min)\n",
        "    #print('Max: ',v_max)\n",
        "    X = (X - v_min)/(v_max - v_min)\n",
        "    X = np.nan_to_num(X)\n",
        "    return X"
      ]
    },
    {
      "cell_type": "code",
      "execution_count": null,
      "metadata": {
        "id": "HV9YKXOcAeoK"
      },
      "outputs": [],
      "source": [
        "def clean(x_train,x_val,x_test,y_train,y_val,y_test):\n",
        "    print()\n",
        "    print(\"Normalizing data...\")\n",
        "    t1 = time.time()\n",
        "    x_train = normalize_it(x_train)\n",
        "    #print(X_train)\n",
        "    x_val = normalize_it(x_val)\n",
        "    x_test = normalize_it(x_test)\n",
        "    t2 =time.time()\n",
        "    print()\n",
        "    print(f\"Time taken to normalize images: {t2 - t1} secs\")\n",
        "\n",
        "    print()\n",
        "    print(\"One hot encoding labels...\")\n",
        "    t3 = time.time()\n",
        "    y_train = np_utils.to_categorical(y_train, 10)\n",
        "    y_test = np_utils.to_categorical(y_test, 10)\n",
        "    y_val = np_utils.to_categorical(y_val, 10)\n",
        "    t4 = time.time()\n",
        "    print()\n",
        "    print(f\"Time taken to convert labels to categorical: {t4 - t3} secs\")\n",
        "\n",
        "    print()\n",
        "    print(\"Shuffling data...\")\n",
        "    t5 = time.time()\n",
        "    X_train, y_train = shuffle(x_train, y_train, random_state=0)\n",
        "    X_test, y_test = shuffle(x_test, y_test, random_state=0)\n",
        "    X_val, y_val = shuffle(x_val, y_val, random_state=0)\n",
        "    t6 = time.time()\n",
        "    print()\n",
        "    print(f\"Time taken to shuffle data: {t6 - t5} secs\")\n",
        "    \n",
        "    print()\n",
        "    print(\"Reshaping data...\")\n",
        "    t7 = time.time()\n",
        "    x_train = np.expand_dims(x_train, axis=4)\n",
        "    x_val = np.expand_dims(x_val, axis=4)\n",
        "    x_test = np.expand_dims(x_test, axis=4)\n",
        "    t8 = time.time()\n",
        "    print()\n",
        "    print(f\"Time taken to reshape data: {t8 - t7} secs\")\n",
        "    print()\n",
        "\n",
        "    print(x_train.shape)\n",
        "    print(x_val.shape)\n",
        "    print(x_test.shape)\n",
        "    return x_train, x_val, x_test, y_train, y_val, y_test"
      ]
    },
    {
      "cell_type": "code",
      "execution_count": null,
      "metadata": {
        "colab": {
          "base_uri": "https://localhost:8080/"
        },
        "id": "l8I6WOeYAg5I",
        "outputId": "81550783-fa71-4b03-be6c-b228d804886a"
      },
      "outputs": [
        {
          "name": "stdout",
          "output_type": "stream",
          "text": [
            "\n",
            "Normalizing data...\n",
            "\n",
            "Time taken to normalize images: 0.311004638671875 secs\n",
            "\n",
            "One hot encoding labels...\n",
            "\n",
            "Time taken to convert labels to categorical: 0.0001392364501953125 secs\n",
            "\n",
            "Shuffling data...\n",
            "\n",
            "Time taken to shuffle data: 0.06472086906433105 secs\n",
            "\n",
            "Reshaping data...\n",
            "\n",
            "Time taken to reshape data: 5.316734313964844e-05 secs\n",
            "\n",
            "(90, 10, 100, 100, 1)\n",
            "(10, 10, 100, 100, 1)\n",
            "(30, 10, 100, 100, 1)\n"
          ]
        }
      ],
      "source": [
        "x_train, x_val, x_test, y_train, y_val, y_test = clean(x_train,x_val,x_test,y_train,y_val,y_test)"
      ]
    },
    {
      "cell_type": "code",
      "execution_count": null,
      "metadata": {
        "id": "cxaxgDGKGCkM"
      },
      "outputs": [],
      "source": [
        "'''\n",
        "\n",
        "MODEL WITH 100% TRAINING ACCURACY\n",
        "\n",
        "'''\n",
        "\n",
        "model = Sequential()\n",
        "\n",
        "model.add(Conv3D(32, (3, 3, 3), strides = 1, input_shape=(10, 100, 100, 1), activation='relu', padding='valid'))\n",
        "model.add(MaxPooling3D(pool_size=(2, 2, 2), strides=2))\n",
        "\n",
        "model.add(Conv3D(64, (3, 3, 3), activation='relu', strides=1))\n",
        "model.add(MaxPooling3D(pool_size=(2, 2, 2), strides=2))\n",
        "\n",
        "\n",
        "shape = (1,10,10,128)\n",
        "model.add((Flatten()))\n",
        "model.add(Dense(10, activation='softmax'))\n",
        "model.compile(loss = 'categorical_crossentropy',optimizer = 'Adam',metrics = ['accuracy'])\n",
        "model.summary()"
      ]
    },
    {
      "cell_type": "code",
      "execution_count": null,
      "metadata": {
        "id": "sFrV8vKuQ1Df"
      },
      "outputs": [],
      "source": [
        "plot_model(model,to_file='model.png')"
      ]
    },
    {
      "cell_type": "code",
      "execution_count": null,
      "metadata": {
        "id": "2XpZmEwxQ2ma"
      },
      "outputs": [],
      "source": [
        "def myprint(s):\n",
        "    with open('modelsummary.txt','a') as f:\n",
        "        print(s, file=f)\n",
        "\n",
        "model.summary(print_fn=myprint)"
      ]
    },
    {
      "cell_type": "code",
      "execution_count": null,
      "metadata": {
        "id": "s4YzSYVXAmGX"
      },
      "outputs": [],
      "source": [
        "  \n",
        "t1 = time.time()\n",
        "#history = model.fit(x_train, y_train, validation_data=(x_val, y_val), callbacks = [earlyStopping], epochs=45)\n",
        "history = model.fit(x_train, y_train, validation_data=(x_val, y_val), epochs=35)\n",
        "t2 = time.time()\n",
        "print()\n",
        "print(f\"Training time : {(t2 - t1)/60} mins.\")"
      ]
    },
    {
      "cell_type": "code",
      "execution_count": null,
      "metadata": {
        "id": "NxPQkA7IAmva"
      },
      "outputs": [],
      "source": [
        "plt.plot(history.history['accuracy'])\n",
        "plt.plot(history.history['val_accuracy'])\n",
        "plt.title('Model accuracy')\n",
        "plt.ylabel('Accuracy')\n",
        "plt.xlabel('Epoch')\n",
        "plt.legend(['Train', 'Validation'], loc='upper left')\n",
        "plt.show()"
      ]
    },
    {
      "cell_type": "code",
      "execution_count": null,
      "metadata": {
        "id": "EX2b46Q0Aoka"
      },
      "outputs": [],
      "source": [
        "plt.plot(history.history['loss'])\n",
        "plt.plot(history.history['val_loss'])\n",
        "plt.title('Model loss')\n",
        "plt.ylabel('Loss')\n",
        "plt.xlabel('Epoch')\n",
        "plt.xlim(1, 40)\n",
        "# plt.ylim(0, 3)\n",
        "plt.legend(['Train', 'Validation'], loc='upper left')\n",
        "plt.show()\n"
      ]
    },
    {
      "cell_type": "code",
      "execution_count": null,
      "metadata": {
        "colab": {
          "base_uri": "https://localhost:8080/"
        },
        "id": "WReulqF6AqKw",
        "outputId": "1157f214-9521-4cb8-84d6-8572f37a7163"
      },
      "outputs": [
        {
          "name": "stdout",
          "output_type": "stream",
          "text": [
            "1/1 [==============================] - 0s 272ms/step\n"
          ]
        }
      ],
      "source": [
        "#pred = model.predict(x_test)\n",
        "ypred = model.predict(x_test)\n",
        "# predicted_words = [words[i] for i in np.argmax(ypred, axis=1)]\n",
        "# actual_words = [words[i] for i in np.argmax(y_test,axis=1)]\n",
        "predicted_words = [words[i] for i in np.argmax(ypred, axis=1)]\n",
        "actual_words = [words[i] for i in np.argmax(y_test,axis=1)]\n",
        "#actual_words = [words[i] for i in np.argmax(y_train,axis=1)]\n"
      ]
    },
    {
      "cell_type": "code",
      "execution_count": null,
      "metadata": {
        "id": "HVHWWqPV6kA6"
      },
      "outputs": [],
      "source": [
        "correct = 0\n",
        "for p, a in zip(predicted_words, actual_words):\n",
        "    if p == a:\n",
        "        correct += 1\n",
        "    print(f\"Predicted : {p} \\t Actual : {a}\")\n",
        "\n",
        "accuracy = correct/len(actual_words)\n",
        "print()\n",
        "print()\n",
        "print(f\"Accuracy = {accuracy*100}% on testing data\")"
      ]
    }
  ],
  "metadata": {
    "accelerator": "GPU",
    "colab": {
      "provenance": []
    },
    "gpuClass": "standard",
    "kernelspec": {
      "display_name": "Python 3",
      "name": "python3"
    },
    "language_info": {
      "name": "python"
    }
  },
  "nbformat": 4,
  "nbformat_minor": 0
}
